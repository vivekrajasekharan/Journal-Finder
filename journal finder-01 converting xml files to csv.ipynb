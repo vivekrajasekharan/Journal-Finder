{
 "cells": [
  {
   "cell_type": "code",
   "execution_count": 3,
   "metadata": {
    "collapsed": true
   },
   "outputs": [],
   "source": [
    "from IPython.core.interactiveshell import InteractiveShell\n",
    "InteractiveShell.ast_node_interactivity = \"all\"\n",
    "\n",
    "#Importing necessary packages\n",
    "import pandas as pd\n",
    "import numpy as np\n",
    "import seaborn as sns\n",
    "import matplotlib.pyplot as plt\n",
    "%matplotlib inline\n",
    "import datetime\n",
    "pd.options.display.max_colwidth = 100\n",
    "\n"
   ]
  },
  {
   "cell_type": "markdown",
   "metadata": {},
   "source": [
    "## Data info"
   ]
  },
  {
   "cell_type": "markdown",
   "metadata": {},
   "source": [
    "I downloaded **xml** files that contain info regarding all publications in 2017 (upto October with full text freely available) from [PubMed](https://www.ncbi.nlm.nih.gov/pubmed) for this project. The data are in saved in three files (ncbi.xml, ncbip2.xml and ncbip3.xml). This notebook contains the code to extract the **pubmed ID, journal name, main keyword, title, and abstract** of the paper and save the data to a **csv** file. \n",
    "*Note: The xml, csv and model files are large (100s of MB to GBs) and not uploaded to the repository.* \n"
   ]
  },
  {
   "cell_type": "code",
   "execution_count": 2,
   "metadata": {
    "collapsed": true
   },
   "outputs": [],
   "source": [
    "import xml.etree.cElementTree as et"
   ]
  },
  {
   "cell_type": "code",
   "execution_count": 3,
   "metadata": {
    "collapsed": true
   },
   "outputs": [],
   "source": [
    "# I downloaded all publications in 2017 (upto October) that are freely available for this study. The data are\n",
    "# saved in three files (ncbi.xml, ncbip2.xml and ncbip3.xml). \n",
    " \n",
    "def getvalueofnode(node):\n",
    "    \"\"\" return node text or None \"\"\"\n",
    "    return node.text if node is not None else None\n",
    " \n",
    "#Run separately for ncbi.xml, ncbip2.xml, ncbip3.xml \n",
    "\n",
    "parsedXML = et.parse( \"data/NCBI/ncbip3.xml\" )\n",
    "dfcols = ['pmid','key', 'journal', 'title', 'abstract']\n",
    "df_xml = pd.DataFrame(columns=dfcols)\n",
    " \n",
    "\n",
    "\n"
   ]
  },
  {
   "cell_type": "code",
   "execution_count": 4,
   "metadata": {
    "collapsed": true
   },
   "outputs": [],
   "source": [
    "for node in parsedXML.getroot():\n",
    "    pmid = node.find('MedlineCitation/PMID')\n",
    "    key = node.find('MedlineCitation/KeywordList/Keyword')\n",
    "    journal = node.find('MedlineCitation/Article/Journal/Title')\n",
    "    title = node.find('MedlineCitation/Article/ArticleTitle')\n",
    "    abstract = node.find('MedlineCitation/Article/Abstract/AbstractText')\n",
    " \n",
    "    df_xml = df_xml.append(\n",
    "        pd.Series([getvalueofnode(pmid),getvalueofnode(key), getvalueofnode(journal), getvalueofnode(title),\n",
    "                    getvalueofnode(abstract)], index=dfcols),\n",
    "        ignore_index=True)\n",
    " "
   ]
  },
  {
   "cell_type": "code",
   "execution_count": 5,
   "metadata": {},
   "outputs": [
    {
     "data": {
      "text/html": [
       "<div>\n",
       "<style>\n",
       "    .dataframe thead tr:only-child th {\n",
       "        text-align: right;\n",
       "    }\n",
       "\n",
       "    .dataframe thead th {\n",
       "        text-align: left;\n",
       "    }\n",
       "\n",
       "    .dataframe tbody tr th {\n",
       "        vertical-align: top;\n",
       "    }\n",
       "</style>\n",
       "<table border=\"1\" class=\"dataframe\">\n",
       "  <thead>\n",
       "    <tr style=\"text-align: right;\">\n",
       "      <th></th>\n",
       "      <th>pmid</th>\n",
       "      <th>key</th>\n",
       "      <th>journal</th>\n",
       "      <th>title</th>\n",
       "      <th>abstract</th>\n",
       "    </tr>\n",
       "  </thead>\n",
       "  <tbody>\n",
       "    <tr>\n",
       "      <th>88055</th>\n",
       "      <td>28290033</td>\n",
       "      <td>Hydroxypropyl-β-cyclodextrin</td>\n",
       "      <td>AAPS PharmSciTech</td>\n",
       "      <td>Improving cyclodextrin complexation of a new antihepatitis drug with glacial acetic acid.</td>\n",
       "      <td>The purpose of this study was to develop and evaluate a solid nonaqueous oral dosage form for a ...</td>\n",
       "    </tr>\n",
       "    <tr>\n",
       "      <th>88056</th>\n",
       "      <td>28290032</td>\n",
       "      <td>factorial design</td>\n",
       "      <td>AAPS PharmSciTech</td>\n",
       "      <td>Intragastric floating drug delivery system of cefuroxime axetil: In vitro evaluation.</td>\n",
       "      <td>This investigation describes the development of an intragastric drug-delivery system for cefurox...</td>\n",
       "    </tr>\n",
       "    <tr>\n",
       "      <th>88057</th>\n",
       "      <td>28290025</td>\n",
       "      <td>antioxidant</td>\n",
       "      <td>AAPS PharmSciTech</td>\n",
       "      <td>Evaluation of functional stability of quercetin as a raw material and in different topical formu...</td>\n",
       "      <td>The present study evaluates the antioxidant activity of the flavonol quercetin, and its function...</td>\n",
       "    </tr>\n",
       "    <tr>\n",
       "      <th>88058</th>\n",
       "      <td>28290023</td>\n",
       "      <td>brain targeting</td>\n",
       "      <td>AAPS PharmSciTech</td>\n",
       "      <td>Preliminary brain-targeting studies on intranasal mucoadhesive microemulsions of sumatriptan.</td>\n",
       "      <td>The aim of this investigation was to prepare microemulsions containing sumatriptan (ST) and suma...</td>\n",
       "    </tr>\n",
       "    <tr>\n",
       "      <th>88059</th>\n",
       "      <td>28290022</td>\n",
       "      <td>gloss</td>\n",
       "      <td>AAPS PharmSciTech</td>\n",
       "      <td>Local and average gloss from flat-faced sodium chloride tablets.</td>\n",
       "      <td>The purpose of this study was to detect local gloss and surface structure changes of sodium chlo...</td>\n",
       "    </tr>\n",
       "  </tbody>\n",
       "</table>\n",
       "</div>"
      ],
      "text/plain": [
       "           pmid                           key            journal  \\\n",
       "88055  28290033  Hydroxypropyl-β-cyclodextrin  AAPS PharmSciTech   \n",
       "88056  28290032              factorial design  AAPS PharmSciTech   \n",
       "88057  28290025                   antioxidant  AAPS PharmSciTech   \n",
       "88058  28290023               brain targeting  AAPS PharmSciTech   \n",
       "88059  28290022                         gloss  AAPS PharmSciTech   \n",
       "\n",
       "                                                                                                     title  \\\n",
       "88055            Improving cyclodextrin complexation of a new antihepatitis drug with glacial acetic acid.   \n",
       "88056                Intragastric floating drug delivery system of cefuroxime axetil: In vitro evaluation.   \n",
       "88057  Evaluation of functional stability of quercetin as a raw material and in different topical formu...   \n",
       "88058        Preliminary brain-targeting studies on intranasal mucoadhesive microemulsions of sumatriptan.   \n",
       "88059                                     Local and average gloss from flat-faced sodium chloride tablets.   \n",
       "\n",
       "                                                                                                  abstract  \n",
       "88055  The purpose of this study was to develop and evaluate a solid nonaqueous oral dosage form for a ...  \n",
       "88056  This investigation describes the development of an intragastric drug-delivery system for cefurox...  \n",
       "88057  The present study evaluates the antioxidant activity of the flavonol quercetin, and its function...  \n",
       "88058  The aim of this investigation was to prepare microemulsions containing sumatriptan (ST) and suma...  \n",
       "88059  The purpose of this study was to detect local gloss and surface structure changes of sodium chlo...  "
      ]
     },
     "execution_count": 5,
     "metadata": {},
     "output_type": "execute_result"
    }
   ],
   "source": [
    "\n",
    "ncbi2=df_xml.copy(True) \n",
    "ncbi2.tail()"
   ]
  },
  {
   "cell_type": "code",
   "execution_count": 7,
   "metadata": {
    "collapsed": true
   },
   "outputs": [],
   "source": [
    "#Save separately as ncbi_data.csv, ncbi_datap2.csv, ncbi_datap3.csv \n",
    "# ncbi2.to_csv('ncbi_datap3.csv', sep=',')"
   ]
  },
  {
   "cell_type": "code",
   "execution_count": 4,
   "metadata": {},
   "outputs": [],
   "source": [
    "ncbip1=pd.read_csv('data/NCBI/ncbi_data.csv', encoding='latin1', index_col=0)\n",
    "ncbip2=pd.read_csv('data/NCBI/ncbi_datap2.csv', encoding='latin1', index_col=0)\n",
    "ncbip3=pd.read_csv('data/NCBI/ncbi_datap3.csv', encoding='latin1', index_col=0)\n"
   ]
  },
  {
   "cell_type": "code",
   "execution_count": 5,
   "metadata": {},
   "outputs": [
    {
     "data": {
      "text/html": [
       "<div>\n",
       "<style>\n",
       "    .dataframe thead tr:only-child th {\n",
       "        text-align: right;\n",
       "    }\n",
       "\n",
       "    .dataframe thead th {\n",
       "        text-align: left;\n",
       "    }\n",
       "\n",
       "    .dataframe tbody tr th {\n",
       "        vertical-align: top;\n",
       "    }\n",
       "</style>\n",
       "<table border=\"1\" class=\"dataframe\">\n",
       "  <thead>\n",
       "    <tr style=\"text-align: right;\">\n",
       "      <th></th>\n",
       "      <th>pmid</th>\n",
       "      <th>key</th>\n",
       "      <th>journal</th>\n",
       "      <th>title</th>\n",
       "      <th>abstract</th>\n",
       "    </tr>\n",
       "  </thead>\n",
       "  <tbody>\n",
       "    <tr>\n",
       "      <th>88055</th>\n",
       "      <td>28290033.0</td>\n",
       "      <td>Hydroxypropyl-?-cyclodextrin</td>\n",
       "      <td>AAPS PharmSciTech</td>\n",
       "      <td>Improving cyclodextrin complexation of a new antihepatitis drug with glacial acetic acid.</td>\n",
       "      <td>The purpose of this study was to develop and evaluate a solid nonaqueous oral dosage form for a ...</td>\n",
       "    </tr>\n",
       "    <tr>\n",
       "      <th>88056</th>\n",
       "      <td>28290032.0</td>\n",
       "      <td>factorial design</td>\n",
       "      <td>AAPS PharmSciTech</td>\n",
       "      <td>Intragastric floating drug delivery system of cefuroxime axetil: In vitro evaluation.</td>\n",
       "      <td>This investigation describes the development of an intragastric drug-delivery system for cefurox...</td>\n",
       "    </tr>\n",
       "    <tr>\n",
       "      <th>88057</th>\n",
       "      <td>28290025.0</td>\n",
       "      <td>antioxidant</td>\n",
       "      <td>AAPS PharmSciTech</td>\n",
       "      <td>Evaluation of functional stability of quercetin as a raw material and in different topical formu...</td>\n",
       "      <td>The present study evaluates the antioxidant activity of the flavonol quercetin, and its function...</td>\n",
       "    </tr>\n",
       "    <tr>\n",
       "      <th>88058</th>\n",
       "      <td>28290023.0</td>\n",
       "      <td>brain targeting</td>\n",
       "      <td>AAPS PharmSciTech</td>\n",
       "      <td>Preliminary brain-targeting studies on intranasal mucoadhesive microemulsions of sumatriptan.</td>\n",
       "      <td>The aim of this investigation was to prepare microemulsions containing sumatriptan (ST) and suma...</td>\n",
       "    </tr>\n",
       "    <tr>\n",
       "      <th>88059</th>\n",
       "      <td>28290022.0</td>\n",
       "      <td>gloss</td>\n",
       "      <td>AAPS PharmSciTech</td>\n",
       "      <td>Local and average gloss from flat-faced sodium chloride tablets.</td>\n",
       "      <td>The purpose of this study was to detect local gloss and surface structure changes of sodium chlo...</td>\n",
       "    </tr>\n",
       "  </tbody>\n",
       "</table>\n",
       "</div>"
      ],
      "text/plain": [
       "             pmid                           key            journal  \\\n",
       "88055  28290033.0  Hydroxypropyl-?-cyclodextrin  AAPS PharmSciTech   \n",
       "88056  28290032.0              factorial design  AAPS PharmSciTech   \n",
       "88057  28290025.0                   antioxidant  AAPS PharmSciTech   \n",
       "88058  28290023.0               brain targeting  AAPS PharmSciTech   \n",
       "88059  28290022.0                         gloss  AAPS PharmSciTech   \n",
       "\n",
       "                                                                                                     title  \\\n",
       "88055            Improving cyclodextrin complexation of a new antihepatitis drug with glacial acetic acid.   \n",
       "88056                Intragastric floating drug delivery system of cefuroxime axetil: In vitro evaluation.   \n",
       "88057  Evaluation of functional stability of quercetin as a raw material and in different topical formu...   \n",
       "88058        Preliminary brain-targeting studies on intranasal mucoadhesive microemulsions of sumatriptan.   \n",
       "88059                                     Local and average gloss from flat-faced sodium chloride tablets.   \n",
       "\n",
       "                                                                                                  abstract  \n",
       "88055  The purpose of this study was to develop and evaluate a solid nonaqueous oral dosage form for a ...  \n",
       "88056  This investigation describes the development of an intragastric drug-delivery system for cefurox...  \n",
       "88057  The present study evaluates the antioxidant activity of the flavonol quercetin, and its function...  \n",
       "88058  The aim of this investigation was to prepare microemulsions containing sumatriptan (ST) and suma...  \n",
       "88059  The purpose of this study was to detect local gloss and surface structure changes of sodium chlo...  "
      ]
     },
     "execution_count": 5,
     "metadata": {},
     "output_type": "execute_result"
    }
   ],
   "source": [
    "#Combining to a single dataframe\n",
    "ncbi2=pd.concat([ncbip1,ncbip2,ncbip3])\n",
    "# len(ncbi2)\n",
    "# len(ncbip1)\n",
    "# len(ncbip2)\n",
    "# len(ncbip3)\n",
    "ncbi2.tail()"
   ]
  },
  {
   "cell_type": "code",
   "execution_count": 6,
   "metadata": {
    "collapsed": true
   },
   "outputs": [],
   "source": [
    "#combining title and abstract and saving to new column, data\n",
    "ncbi2['data']=ncbi2['title']+'. '+ncbi2['abstract']"
   ]
  },
  {
   "cell_type": "code",
   "execution_count": 7,
   "metadata": {},
   "outputs": [
    {
     "data": {
      "text/plain": [
       "pmid           884\n",
       "key         105088\n",
       "journal        884\n",
       "title          884\n",
       "abstract     14481\n",
       "data         14481\n",
       "dtype: int64"
      ]
     },
     "execution_count": 7,
     "metadata": {},
     "output_type": "execute_result"
    }
   ],
   "source": [
    "ncbi2.isnull().sum()"
   ]
  },
  {
   "cell_type": "code",
   "execution_count": 8,
   "metadata": {
    "collapsed": true
   },
   "outputs": [],
   "source": [
    "#Dropping column keyword because it has many nans and is not very informative\n",
    "ncbi2.drop(labels=['key'],axis=1, inplace=True)"
   ]
  },
  {
   "cell_type": "code",
   "execution_count": 9,
   "metadata": {
    "collapsed": true
   },
   "outputs": [],
   "source": [
    "#Dropping null rows\n",
    "ncbi2.dropna(axis=0, inplace=True)"
   ]
  },
  {
   "cell_type": "code",
   "execution_count": 10,
   "metadata": {
    "collapsed": true
   },
   "outputs": [],
   "source": [
    "ncbi3=ncbi2.copy(True)"
   ]
  },
  {
   "cell_type": "code",
   "execution_count": 12,
   "metadata": {},
   "outputs": [
    {
     "data": {
      "text/plain": [
       "pmid        0\n",
       "journal     0\n",
       "title       0\n",
       "abstract    0\n",
       "data        0\n",
       "dtype: int64"
      ]
     },
     "execution_count": 12,
     "metadata": {},
     "output_type": "execute_result"
    }
   ],
   "source": [
    "ncbi3.isnull().sum()"
   ]
  },
  {
   "cell_type": "code",
   "execution_count": null,
   "metadata": {
    "collapsed": true
   },
   "outputs": [],
   "source": [
    "#Save csv file to disk\n",
    "# ncbi3.to_csv('ncbi_full.csv', sep=',')"
   ]
  }
 ],
 "metadata": {
  "kernelspec": {
   "display_name": "Python [conda root]",
   "language": "python",
   "name": "conda-root-py"
  },
  "language_info": {
   "codemirror_mode": {
    "name": "ipython",
    "version": 3
   },
   "file_extension": ".py",
   "mimetype": "text/x-python",
   "name": "python",
   "nbconvert_exporter": "python",
   "pygments_lexer": "ipython3",
   "version": "3.6.1"
  }
 },
 "nbformat": 4,
 "nbformat_minor": 2
}
