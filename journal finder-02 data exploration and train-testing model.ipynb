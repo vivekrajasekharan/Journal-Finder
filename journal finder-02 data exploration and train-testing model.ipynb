{
 "cells": [
  {
   "cell_type": "code",
   "execution_count": 1,
   "metadata": {
    "collapsed": true
   },
   "outputs": [],
   "source": [
    "from IPython.core.interactiveshell import InteractiveShell\n",
    "InteractiveShell.ast_node_interactivity = \"all\"\n",
    "\n",
    "#Importing necessary packages\n",
    "import pandas as pd\n",
    "import numpy as np\n",
    "import seaborn as sns\n",
    "import matplotlib.pyplot as plt\n",
    "%matplotlib inline\n",
    "import datetime\n",
    "pd.options.display.max_colwidth = 100\n",
    "\n"
   ]
  },
  {
   "cell_type": "code",
   "execution_count": 73,
   "metadata": {},
   "outputs": [
    {
     "data": {
      "text/html": [
       "<div>\n",
       "<style>\n",
       "    .dataframe thead tr:only-child th {\n",
       "        text-align: right;\n",
       "    }\n",
       "\n",
       "    .dataframe thead th {\n",
       "        text-align: left;\n",
       "    }\n",
       "\n",
       "    .dataframe tbody tr th {\n",
       "        vertical-align: top;\n",
       "    }\n",
       "</style>\n",
       "<table border=\"1\" class=\"dataframe\">\n",
       "  <thead>\n",
       "    <tr style=\"text-align: right;\">\n",
       "      <th></th>\n",
       "      <th>pmid</th>\n",
       "      <th>journal</th>\n",
       "      <th>title</th>\n",
       "      <th>abstract</th>\n",
       "      <th>data</th>\n",
       "    </tr>\n",
       "  </thead>\n",
       "  <tbody>\n",
       "    <tr>\n",
       "      <th>201</th>\n",
       "      <td>28868222.0</td>\n",
       "      <td>3 Biotech</td>\n",
       "      <td>Linkage disequilibrium based association mapping of micronutrients in common bean (Phaseolus vul...</td>\n",
       "      <td>Micronutrient deficiencies are of major concern in human health and plant metabolism. Iron (Fe),...</td>\n",
       "      <td>Linkage disequilibrium based association mapping of micronutrients in common bean (Phaseolus vul...</td>\n",
       "    </tr>\n",
       "    <tr>\n",
       "      <th>202</th>\n",
       "      <td>28868221.0</td>\n",
       "      <td>3 Biotech</td>\n",
       "      <td>The persistence and performance of phosphate-solubilizing Gluconacetobacter liquefaciens qzr14 i...</td>\n",
       "      <td>The persistence and performance of plant growth-promoting microorganisms (PGPMs) in soil are con...</td>\n",
       "      <td>The persistence and performance of phosphate-solubilizing Gluconacetobacter liquefaciens qzr14 i...</td>\n",
       "    </tr>\n",
       "    <tr>\n",
       "      <th>203</th>\n",
       "      <td>28868220.0</td>\n",
       "      <td>3 Biotech</td>\n",
       "      <td>Evaluation of stress effects of copper oxide nanoparticles in Brassica napus L. seedlings.</td>\n",
       "      <td>Rapid growth of nanotechnology has enabled the production and use of engineered nanoparticles (E...</td>\n",
       "      <td>Evaluation of stress effects of copper oxide nanoparticles in Brassica napus L. seedlings.. Rapi...</td>\n",
       "    </tr>\n",
       "    <tr>\n",
       "      <th>204</th>\n",
       "      <td>28868214.0</td>\n",
       "      <td>3 Biotech</td>\n",
       "      <td>Allelic variation at high-molecular weight and low-molecular weight glutenin subunit genes in Mo...</td>\n",
       "      <td>Glutenin is a major protein fraction contributing to the functional properties of gluten and dou...</td>\n",
       "      <td>Allelic variation at high-molecular weight and low-molecular weight glutenin subunit genes in Mo...</td>\n",
       "    </tr>\n",
       "    <tr>\n",
       "      <th>205</th>\n",
       "      <td>28828287.0</td>\n",
       "      <td>3 Biotech</td>\n",
       "      <td>Concurrent production and relative quantification of vasicinone from in vivo and in vitro plant ...</td>\n",
       "      <td>The present study documents a simultaneous production and comparative assessment of extracted va...</td>\n",
       "      <td>Concurrent production and relative quantification of vasicinone from in vivo and in vitro plant ...</td>\n",
       "    </tr>\n",
       "  </tbody>\n",
       "</table>\n",
       "</div>"
      ],
      "text/plain": [
       "           pmid    journal  \\\n",
       "201  28868222.0  3 Biotech   \n",
       "202  28868221.0  3 Biotech   \n",
       "203  28868220.0  3 Biotech   \n",
       "204  28868214.0  3 Biotech   \n",
       "205  28828287.0  3 Biotech   \n",
       "\n",
       "                                                                                                   title  \\\n",
       "201  Linkage disequilibrium based association mapping of micronutrients in common bean (Phaseolus vul...   \n",
       "202  The persistence and performance of phosphate-solubilizing Gluconacetobacter liquefaciens qzr14 i...   \n",
       "203           Evaluation of stress effects of copper oxide nanoparticles in Brassica napus L. seedlings.   \n",
       "204  Allelic variation at high-molecular weight and low-molecular weight glutenin subunit genes in Mo...   \n",
       "205  Concurrent production and relative quantification of vasicinone from in vivo and in vitro plant ...   \n",
       "\n",
       "                                                                                                abstract  \\\n",
       "201  Micronutrient deficiencies are of major concern in human health and plant metabolism. Iron (Fe),...   \n",
       "202  The persistence and performance of plant growth-promoting microorganisms (PGPMs) in soil are con...   \n",
       "203  Rapid growth of nanotechnology has enabled the production and use of engineered nanoparticles (E...   \n",
       "204  Glutenin is a major protein fraction contributing to the functional properties of gluten and dou...   \n",
       "205  The present study documents a simultaneous production and comparative assessment of extracted va...   \n",
       "\n",
       "                                                                                                    data  \n",
       "201  Linkage disequilibrium based association mapping of micronutrients in common bean (Phaseolus vul...  \n",
       "202  The persistence and performance of phosphate-solubilizing Gluconacetobacter liquefaciens qzr14 i...  \n",
       "203  Evaluation of stress effects of copper oxide nanoparticles in Brassica napus L. seedlings.. Rapi...  \n",
       "204  Allelic variation at high-molecular weight and low-molecular weight glutenin subunit genes in Mo...  \n",
       "205  Concurrent production and relative quantification of vasicinone from in vivo and in vitro plant ...  "
      ]
     },
     "execution_count": 73,
     "metadata": {},
     "output_type": "execute_result"
    },
    {
     "data": {
      "text/plain": [
       "266392"
      ]
     },
     "execution_count": 73,
     "metadata": {},
     "output_type": "execute_result"
    }
   ],
   "source": [
    "ncbi3=pd.read_csv('data/NCBI/ncbi_full.csv', encoding='latin1', index_col=0)\n",
    "ncbi3.head(5)\n",
    "len(ncbi3)"
   ]
  },
  {
   "cell_type": "code",
   "execution_count": 74,
   "metadata": {},
   "outputs": [
    {
     "data": {
      "text/html": [
       "<div>\n",
       "<style>\n",
       "    .dataframe thead tr:only-child th {\n",
       "        text-align: right;\n",
       "    }\n",
       "\n",
       "    .dataframe thead th {\n",
       "        text-align: left;\n",
       "    }\n",
       "\n",
       "    .dataframe tbody tr th {\n",
       "        vertical-align: top;\n",
       "    }\n",
       "</style>\n",
       "<table border=\"1\" class=\"dataframe\">\n",
       "  <thead>\n",
       "    <tr style=\"text-align: right;\">\n",
       "      <th></th>\n",
       "      <th>index</th>\n",
       "      <th>journal</th>\n",
       "    </tr>\n",
       "  </thead>\n",
       "  <tbody>\n",
       "    <tr>\n",
       "      <th>0</th>\n",
       "      <td>Scientific reports</td>\n",
       "      <td>19294</td>\n",
       "    </tr>\n",
       "    <tr>\n",
       "      <th>1</th>\n",
       "      <td>PloS one</td>\n",
       "      <td>15940</td>\n",
       "    </tr>\n",
       "    <tr>\n",
       "      <th>2</th>\n",
       "      <td>Oncotarget</td>\n",
       "      <td>8228</td>\n",
       "    </tr>\n",
       "    <tr>\n",
       "      <th>3</th>\n",
       "      <td>Nature communications</td>\n",
       "      <td>2843</td>\n",
       "    </tr>\n",
       "    <tr>\n",
       "      <th>4</th>\n",
       "      <td>Medicine</td>\n",
       "      <td>2312</td>\n",
       "    </tr>\n",
       "    <tr>\n",
       "      <th>5</th>\n",
       "      <td>Oncology letters</td>\n",
       "      <td>2292</td>\n",
       "    </tr>\n",
       "    <tr>\n",
       "      <th>6</th>\n",
       "      <td>Sensors (Basel, Switzerland)</td>\n",
       "      <td>2162</td>\n",
       "    </tr>\n",
       "    <tr>\n",
       "      <th>7</th>\n",
       "      <td>International journal of molecular sciences</td>\n",
       "      <td>1967</td>\n",
       "    </tr>\n",
       "    <tr>\n",
       "      <th>8</th>\n",
       "      <td>Proceedings of the National Academy of Sciences of the United States of America</td>\n",
       "      <td>1945</td>\n",
       "    </tr>\n",
       "    <tr>\n",
       "      <th>9</th>\n",
       "      <td>BMJ open</td>\n",
       "      <td>1860</td>\n",
       "    </tr>\n",
       "  </tbody>\n",
       "</table>\n",
       "</div>"
      ],
      "text/plain": [
       "                                                                             index  \\\n",
       "0                                                               Scientific reports   \n",
       "1                                                                         PloS one   \n",
       "2                                                                       Oncotarget   \n",
       "3                                                            Nature communications   \n",
       "4                                                                         Medicine   \n",
       "5                                                                 Oncology letters   \n",
       "6                                                     Sensors (Basel, Switzerland)   \n",
       "7                                      International journal of molecular sciences   \n",
       "8  Proceedings of the National Academy of Sciences of the United States of America   \n",
       "9                                                                         BMJ open   \n",
       "\n",
       "   journal  \n",
       "0    19294  \n",
       "1    15940  \n",
       "2     8228  \n",
       "3     2843  \n",
       "4     2312  \n",
       "5     2292  \n",
       "6     2162  \n",
       "7     1967  \n",
       "8     1945  \n",
       "9     1860  "
      ]
     },
     "execution_count": 74,
     "metadata": {},
     "output_type": "execute_result"
    }
   ],
   "source": [
    "dframe=ncbi3['journal'].value_counts(ascending=False).reset_index()\n",
    "dframe.head(10)"
   ]
  },
  {
   "cell_type": "markdown",
   "metadata": {},
   "source": [
    "I exclude prolific and non-specific journals that publish papers  from a wide range of research areas. I also exclude uncommon journals (<300 publications over the year)."
   ]
  },
  {
   "cell_type": "code",
   "execution_count": 80,
   "metadata": {},
   "outputs": [
    {
     "name": "stdout",
     "output_type": "stream",
     "text": [
      "Number of journals considered is 105\n"
     ]
    }
   ],
   "source": [
    "df=ncbi3['journal'].value_counts().reset_index()\n",
    "print (\"Number of journals considered is\", len(df[(df['journal']>300)&(df['journal']<2500)]))"
   ]
  },
  {
   "cell_type": "code",
   "execution_count": 81,
   "metadata": {
    "collapsed": true
   },
   "outputs": [],
   "source": [
    "df2=df[(df['journal']>300)&(df['journal']<2500)]\n",
    "ncbi4=ncbi3[ncbi3['journal'].isin(df2['index'].values.tolist())] "
   ]
  },
  {
   "cell_type": "code",
   "execution_count": 82,
   "metadata": {
    "collapsed": true
   },
   "outputs": [],
   "source": [
    "ncbi4=ncbi4.copy(True)"
   ]
  },
  {
   "cell_type": "markdown",
   "metadata": {},
   "source": [
    "I build a model that classifies any journal paper into the 105 categories. \n",
    "\n",
    "1. Stemmer: I use Lancaster stemmer to reduce words to their 'stem' (core meaning based unit). It is much faster even though it's much more aggressive than porter.\n",
    "2. I use TFIDF Vectorizer to find a numeric representation of the text. Term frequency (TF)counts the number of times a term occurs in a text, keywords tend to be repeated the text. Inverse document frequency (IDF) accounts for common words aka linguistic glue that occur repeatedly in multiple documents but don't contribute to identifying a class. \n",
    "3. I use bigrams, i.e. words that two occur together multiple times are taken to be a single token\n",
    "4. For classification, I use SVM with a linear kernel (less computationally intensive, good for text classification with many features). My classes are imbalanced with the number of papers/journal ranging from 300 to >2000. I use class_weights = 'balanced' to balance the classes.\n",
    "5. I use CalibratedClassifierCV to find probabilities of classes for the test data. I use LinearSVC instead of SVC with linear kernel because LinearSVC is much faster.\n",
    "6. I use a label encoder to transform non-numerical labels to numericals."
   ]
  },
  {
   "cell_type": "code",
   "execution_count": 87,
   "metadata": {
    "collapsed": true
   },
   "outputs": [],
   "source": [
    "# import operator\n",
    "from sklearn.svm import LinearSVC\n",
    "from sklearn.model_selection import train_test_split\n",
    "from sklearn.feature_extraction.text import TfidfVectorizer\n",
    "from sklearn.preprocessing import LabelEncoder as LE\n",
    "from sklearn.calibration import CalibratedClassifierCV\n",
    "import random\n",
    "import nltk\n",
    "from nltk.stem.lancaster import LancasterStemmer\n",
    "from nltk.stem.porter import PorterStemmer \n",
    "\n",
    "stemmer = LancasterStemmer()\n",
    "def clean_words(line):\n",
    "    word_tokens = nltk.word_tokenize(line)\n",
    "    stemmed = [stemmer.stem(w) for w in word_tokens]\n",
    "    return ' '.join(stemmed)"
   ]
  },
  {
   "cell_type": "code",
   "execution_count": 88,
   "metadata": {
    "collapsed": true
   },
   "outputs": [],
   "source": [
    "le = LE()\n",
    "tfv = TfidfVectorizer(min_df=3, stop_words='english', ngram_range=(1,2))\n",
    "\n",
    "input_data=ncbi4['data']\n",
    "X = []\n",
    "for data in input_data:\n",
    "    X.append(clean_words(data))\n",
    "X2=X\n",
    "# X=X2"
   ]
  },
  {
   "cell_type": "code",
   "execution_count": 112,
   "metadata": {
    "scrolled": false
   },
   "outputs": [
    {
     "data": {
      "text/plain": [
       "TfidfVectorizer(analyzer='word', binary=False, decode_error='strict',\n",
       "        dtype=<class 'numpy.int64'>, encoding='utf-8', input='content',\n",
       "        lowercase=True, max_df=1.0, max_features=None, min_df=3,\n",
       "        ngram_range=(1, 2), norm='l2', preprocessor=None, smooth_idf=True,\n",
       "        stop_words='english', strip_accents=None, sublinear_tf=False,\n",
       "        token_pattern='(?u)\\\\b\\\\w\\\\w+\\\\b', tokenizer=None, use_idf=True,\n",
       "        vocabulary=None)"
      ]
     },
     "execution_count": 112,
     "metadata": {},
     "output_type": "execute_result"
    },
    {
     "data": {
      "text/plain": [
       "LabelEncoder()"
      ]
     },
     "execution_count": 112,
     "metadata": {},
     "output_type": "execute_result"
    }
   ],
   "source": [
    "tfv.fit(X)\n",
    "le.fit(ncbi4['journal'])\n",
    "\n",
    "X = tfv.transform(X)\n",
    "y = le.transform(ncbi4['journal'])\n",
    "\n",
    "\n",
    "X_train, X_test, y_train, y_test = train_test_split(X, y, test_size=.2, random_state=42) #stratify=y"
   ]
  },
  {
   "cell_type": "code",
   "execution_count": 113,
   "metadata": {},
   "outputs": [
    {
     "data": {
      "text/plain": [
       "CalibratedClassifierCV(base_estimator=LinearSVC(C=1, class_weight='balanced', dual=True, fit_intercept=True,\n",
       "     intercept_scaling=1, loss='squared_hinge', max_iter=1000,\n",
       "     multi_class='ovr', penalty='l2', random_state=None, tol=0.0001,\n",
       "     verbose=0),\n",
       "            cv=3, method='sigmoid')"
      ]
     },
     "execution_count": 113,
     "metadata": {},
     "output_type": "execute_result"
    },
    {
     "name": "stdout",
     "output_type": "stream",
     "text": [
      "SVC: 0.563643898059\n"
     ]
    }
   ],
   "source": [
    "linear_svc = LinearSVC(class_weight='balanced', C=1)\n",
    "model = CalibratedClassifierCV(linear_svc,\n",
    "                                        method='sigmoid',  \n",
    "                                        cv=3) \n",
    "model.fit(X_train, y_train)\n",
    "print(\"SVC:\", model.score(X_test, y_test)) #62% at 500-3000"
   ]
  },
  {
   "cell_type": "code",
   "execution_count": 83,
   "metadata": {
    "collapsed": true
   },
   "outputs": [],
   "source": [
    "Y_pred_SVC=model.predict (X_test)"
   ]
  },
  {
   "cell_type": "code",
   "execution_count": 3,
   "metadata": {
    "collapsed": true
   },
   "outputs": [],
   "source": [
    "import pickle\n",
    "filename = 'model_300to2500.sav'\n",
    "filename_tfv = 'tfv_300to2500.sav'\n",
    "filename_le = 'le_300to2500.sav'\n",
    "\n",
    "# save the models to disk\n",
    "\n",
    "# pickle.dump(model, open(filename, 'wb'))\n",
    "# pickle.dump(tfv, open(filename_tfv, 'wb'))\n",
    "# pickle.dump(le, open(filename_le, 'wb'))"
   ]
  },
  {
   "cell_type": "code",
   "execution_count": 4,
   "metadata": {},
   "outputs": [
    {
     "ename": "NameError",
     "evalue": "name 'X_test' is not defined",
     "output_type": "error",
     "traceback": [
      "\u001b[1;31m---------------------------------------------------------------------------\u001b[0m",
      "\u001b[1;31mNameError\u001b[0m                                 Traceback (most recent call last)",
      "\u001b[1;32m<ipython-input-4-70dc4088b054>\u001b[0m in \u001b[0;36m<module>\u001b[1;34m()\u001b[0m\n\u001b[0;32m      3\u001b[0m \u001b[0mloaded_tfv\u001b[0m \u001b[1;33m=\u001b[0m \u001b[0mpickle\u001b[0m\u001b[1;33m.\u001b[0m\u001b[0mload\u001b[0m\u001b[1;33m(\u001b[0m\u001b[0mopen\u001b[0m\u001b[1;33m(\u001b[0m\u001b[0mfilename_tfv\u001b[0m\u001b[1;33m,\u001b[0m \u001b[1;34m'rb'\u001b[0m\u001b[1;33m)\u001b[0m\u001b[1;33m)\u001b[0m\u001b[1;33m\u001b[0m\u001b[0m\n\u001b[0;32m      4\u001b[0m \u001b[0mloaded_le\u001b[0m \u001b[1;33m=\u001b[0m \u001b[0mpickle\u001b[0m\u001b[1;33m.\u001b[0m\u001b[0mload\u001b[0m\u001b[1;33m(\u001b[0m\u001b[0mopen\u001b[0m\u001b[1;33m(\u001b[0m\u001b[0mfilename_le\u001b[0m\u001b[1;33m,\u001b[0m \u001b[1;34m'rb'\u001b[0m\u001b[1;33m)\u001b[0m\u001b[1;33m)\u001b[0m\u001b[1;33m\u001b[0m\u001b[0m\n\u001b[1;32m----> 5\u001b[1;33m \u001b[0mresult\u001b[0m \u001b[1;33m=\u001b[0m \u001b[0mloaded_model\u001b[0m\u001b[1;33m.\u001b[0m\u001b[0mscore\u001b[0m\u001b[1;33m(\u001b[0m\u001b[0mX_test\u001b[0m\u001b[1;33m,\u001b[0m \u001b[0my_test\u001b[0m\u001b[1;33m)\u001b[0m\u001b[1;33m\u001b[0m\u001b[0m\n\u001b[0m\u001b[0;32m      6\u001b[0m \u001b[0mprint\u001b[0m\u001b[1;33m(\u001b[0m\u001b[1;34m\"Checking accuracy of the loaded model...\"\u001b[0m\u001b[1;33m,\u001b[0m \u001b[0mresult\u001b[0m\u001b[1;33m)\u001b[0m\u001b[1;33m\u001b[0m\u001b[0m\n",
      "\u001b[1;31mNameError\u001b[0m: name 'X_test' is not defined"
     ]
    }
   ],
   "source": [
    "# load models from disk\n",
    "loaded_model = pickle.load(open(filename, 'rb'))\n",
    "loaded_tfv = pickle.load(open(filename_tfv, 'rb'))\n",
    "loaded_le = pickle.load(open(filename_le, 'rb'))\n",
    "result = loaded_model.score(X_test, y_test)\n",
    "print(\"Checking accuracy of the loaded model...\", result)"
   ]
  },
  {
   "cell_type": "markdown",
   "metadata": {},
   "source": [
    "The accuracy of the model is 56 % i.e., my model is able to pick the right journal from 105 journals 56% of the time!\n",
    "\n",
    "Next, I look at the posterior probabilities that a paper belongs to a particular journal. "
   ]
  },
  {
   "cell_type": "code",
   "execution_count": 116,
   "metadata": {
    "collapsed": true
   },
   "outputs": [],
   "source": [
    "proba=model.predict_proba(X_test)\n",
    "# prob_pos = model.decision_function(X_test)\n",
    "# proba = (prob_pos - prob_pos.min()) / (prob_pos.max() - prob_pos.min())"
   ]
  },
  {
   "cell_type": "code",
   "execution_count": 126,
   "metadata": {
    "collapsed": true
   },
   "outputs": [],
   "source": [
    "dfcols = ['n1','n1_n', 'p1', 'n2','n2_n', 'p2','n3','n3_n', 'p3',  ]\n",
    "df_max = pd.DataFrame(columns=dfcols)\n",
    "dfcols2 = ['num', 'labels']\n",
    "df_labels= pd.DataFrame(columns=dfcols2)"
   ]
  },
  {
   "cell_type": "code",
   "execution_count": 5,
   "metadata": {},
   "outputs": [
    {
     "ename": "NameError",
     "evalue": "name 'le' is not defined",
     "output_type": "error",
     "traceback": [
      "\u001b[1;31m---------------------------------------------------------------------------\u001b[0m",
      "\u001b[1;31mNameError\u001b[0m                                 Traceback (most recent call last)",
      "\u001b[1;32m<ipython-input-5-3b480fadeef6>\u001b[0m in \u001b[0;36m<module>\u001b[1;34m()\u001b[0m\n\u001b[1;32m----> 1\u001b[1;33m \u001b[0mlabels\u001b[0m\u001b[1;33m=\u001b[0m\u001b[0mlist\u001b[0m\u001b[1;33m(\u001b[0m\u001b[0mle\u001b[0m\u001b[1;33m.\u001b[0m\u001b[0mclasses_\u001b[0m\u001b[1;33m)\u001b[0m\u001b[1;33m\u001b[0m\u001b[0m\n\u001b[0m",
      "\u001b[1;31mNameError\u001b[0m: name 'le' is not defined"
     ]
    }
   ],
   "source": [
    "labels=list(le.classes_)"
   ]
  },
  {
   "cell_type": "code",
   "execution_count": 128,
   "metadata": {
    "collapsed": true
   },
   "outputs": [],
   "source": [
    "num=list(range(0,len(labels)))\n"
   ]
  },
  {
   "cell_type": "code",
   "execution_count": 129,
   "metadata": {
    "collapsed": true
   },
   "outputs": [],
   "source": [
    "df_labels['num']=num\n",
    "df_labels['labels']=list(le.classes_)\n",
    "dict_l=dict(zip(num,labels))"
   ]
  },
  {
   "cell_type": "code",
   "execution_count": 130,
   "metadata": {
    "collapsed": true
   },
   "outputs": [],
   "source": [
    "import heapq\n",
    "vals=[]\n",
    "nvals=[]\n",
    "for i in proba:\n",
    "    \n",
    "#     vals.append(heapq.nlargest(3,i))\n",
    "    nvals.append(heapq.nlargest(3, enumerate(i), key=lambda x: x[1]))"
   ]
  },
  {
   "cell_type": "code",
   "execution_count": 131,
   "metadata": {
    "collapsed": true
   },
   "outputs": [],
   "source": [
    "one=[]\n",
    "two=[]\n",
    "three=[]\n",
    "for i in nvals:\n",
    "    three.append(i[2])\n",
    "    two.append(i[1])\n",
    "    one.append(i[0])    "
   ]
  },
  {
   "cell_type": "code",
   "execution_count": 132,
   "metadata": {
    "collapsed": true
   },
   "outputs": [],
   "source": [
    "n1, p1 = zip(*one)\n",
    "n2, p2 = zip(*two)\n",
    "n3, p3 = zip(*three)"
   ]
  },
  {
   "cell_type": "code",
   "execution_count": 133,
   "metadata": {
    "collapsed": true
   },
   "outputs": [],
   "source": [
    "df_max['n1']=n1\n",
    "df_max['n2']=n2\n",
    "df_max['n3']=n3\n",
    "df_max['p1']=p1\n",
    "df_max['p2']=p2\n",
    "df_max['p3']=p3\n"
   ]
  },
  {
   "cell_type": "code",
   "execution_count": 134,
   "metadata": {
    "collapsed": true
   },
   "outputs": [],
   "source": [
    "df_max['n1_n']=df_max['n1'].map (dict_l)\n",
    "df_max['n2_n']=df_max['n2'].map (dict_l)\n",
    "df_max['n3_n']=df_max['n3'].map (dict_l)"
   ]
  },
  {
   "cell_type": "code",
   "execution_count": 135,
   "metadata": {},
   "outputs": [
    {
     "data": {
      "text/html": [
       "<div>\n",
       "<style>\n",
       "    .dataframe thead tr:only-child th {\n",
       "        text-align: right;\n",
       "    }\n",
       "\n",
       "    .dataframe thead th {\n",
       "        text-align: left;\n",
       "    }\n",
       "\n",
       "    .dataframe tbody tr th {\n",
       "        vertical-align: top;\n",
       "    }\n",
       "</style>\n",
       "<table border=\"1\" class=\"dataframe\">\n",
       "  <thead>\n",
       "    <tr style=\"text-align: right;\">\n",
       "      <th></th>\n",
       "      <th>n1</th>\n",
       "      <th>n1_n</th>\n",
       "      <th>p1</th>\n",
       "      <th>n2</th>\n",
       "      <th>n2_n</th>\n",
       "      <th>p2</th>\n",
       "      <th>n3</th>\n",
       "      <th>n3_n</th>\n",
       "      <th>p3</th>\n",
       "    </tr>\n",
       "  </thead>\n",
       "  <tbody>\n",
       "    <tr>\n",
       "      <th>0</th>\n",
       "      <td>93</td>\n",
       "      <td>Sensors (Basel, Switzerland)</td>\n",
       "      <td>0.764539</td>\n",
       "      <td>40</td>\n",
       "      <td>Frontiers in microbiology</td>\n",
       "      <td>0.045965</td>\n",
       "      <td>6</td>\n",
       "      <td>BMC bioinformatics</td>\n",
       "      <td>0.017823</td>\n",
       "    </tr>\n",
       "    <tr>\n",
       "      <th>1</th>\n",
       "      <td>52</td>\n",
       "      <td>International journal of molecular sciences</td>\n",
       "      <td>0.218573</td>\n",
       "      <td>78</td>\n",
       "      <td>Oncogene</td>\n",
       "      <td>0.173305</td>\n",
       "      <td>58</td>\n",
       "      <td>Journal of cellular and molecular medicine</td>\n",
       "      <td>0.167615</td>\n",
       "    </tr>\n",
       "    <tr>\n",
       "      <th>2</th>\n",
       "      <td>93</td>\n",
       "      <td>Sensors (Basel, Switzerland)</td>\n",
       "      <td>0.776981</td>\n",
       "      <td>18</td>\n",
       "      <td>BioMed research international</td>\n",
       "      <td>0.019079</td>\n",
       "      <td>66</td>\n",
       "      <td>Materials (Basel, Switzerland)</td>\n",
       "      <td>0.012132</td>\n",
       "    </tr>\n",
       "    <tr>\n",
       "      <th>3</th>\n",
       "      <td>24</td>\n",
       "      <td>Chemical science</td>\n",
       "      <td>0.357263</td>\n",
       "      <td>73</td>\n",
       "      <td>Molecules (Basel, Switzerland)</td>\n",
       "      <td>0.189108</td>\n",
       "      <td>52</td>\n",
       "      <td>International journal of molecular sciences</td>\n",
       "      <td>0.170636</td>\n",
       "    </tr>\n",
       "    <tr>\n",
       "      <th>4</th>\n",
       "      <td>61</td>\n",
       "      <td>Journal of physical therapy science</td>\n",
       "      <td>0.764837</td>\n",
       "      <td>69</td>\n",
       "      <td>Medicine</td>\n",
       "      <td>0.054244</td>\n",
       "      <td>18</td>\n",
       "      <td>BioMed research international</td>\n",
       "      <td>0.028336</td>\n",
       "    </tr>\n",
       "    <tr>\n",
       "      <th>5</th>\n",
       "      <td>93</td>\n",
       "      <td>Sensors (Basel, Switzerland)</td>\n",
       "      <td>0.811183</td>\n",
       "      <td>27</td>\n",
       "      <td>Cureus</td>\n",
       "      <td>0.018530</td>\n",
       "      <td>28</td>\n",
       "      <td>Data in brief</td>\n",
       "      <td>0.014059</td>\n",
       "    </tr>\n",
       "    <tr>\n",
       "      <th>6</th>\n",
       "      <td>89</td>\n",
       "      <td>Proceedings of the National Academy of Sciences of the United States of America</td>\n",
       "      <td>0.444906</td>\n",
       "      <td>45</td>\n",
       "      <td>Frontiers in physiology</td>\n",
       "      <td>0.129706</td>\n",
       "      <td>22</td>\n",
       "      <td>Cell reports</td>\n",
       "      <td>0.061258</td>\n",
       "    </tr>\n",
       "    <tr>\n",
       "      <th>7</th>\n",
       "      <td>82</td>\n",
       "      <td>PLoS genetics</td>\n",
       "      <td>0.408431</td>\n",
       "      <td>78</td>\n",
       "      <td>Oncogene</td>\n",
       "      <td>0.073535</td>\n",
       "      <td>22</td>\n",
       "      <td>Cell reports</td>\n",
       "      <td>0.057310</td>\n",
       "    </tr>\n",
       "    <tr>\n",
       "      <th>8</th>\n",
       "      <td>50</td>\n",
       "      <td>International journal of environmental research and public health</td>\n",
       "      <td>0.677547</td>\n",
       "      <td>89</td>\n",
       "      <td>Proceedings of the National Academy of Sciences of the United States of America</td>\n",
       "      <td>0.058298</td>\n",
       "      <td>93</td>\n",
       "      <td>Sensors (Basel, Switzerland)</td>\n",
       "      <td>0.035449</td>\n",
       "    </tr>\n",
       "    <tr>\n",
       "      <th>9</th>\n",
       "      <td>86</td>\n",
       "      <td>PeerJ</td>\n",
       "      <td>0.252492</td>\n",
       "      <td>91</td>\n",
       "      <td>Royal Society open science</td>\n",
       "      <td>0.173445</td>\n",
       "      <td>89</td>\n",
       "      <td>Proceedings of the National Academy of Sciences of the United States of America</td>\n",
       "      <td>0.101868</td>\n",
       "    </tr>\n",
       "    <tr>\n",
       "      <th>10</th>\n",
       "      <td>12</td>\n",
       "      <td>BMC musculoskeletal disorders</td>\n",
       "      <td>0.231081</td>\n",
       "      <td>17</td>\n",
       "      <td>BMJ open</td>\n",
       "      <td>0.115043</td>\n",
       "      <td>18</td>\n",
       "      <td>BioMed research international</td>\n",
       "      <td>0.082037</td>\n",
       "    </tr>\n",
       "    <tr>\n",
       "      <th>11</th>\n",
       "      <td>5</td>\n",
       "      <td>Asian-Australasian journal of animal sciences</td>\n",
       "      <td>0.444746</td>\n",
       "      <td>18</td>\n",
       "      <td>BioMed research international</td>\n",
       "      <td>0.050921</td>\n",
       "      <td>75</td>\n",
       "      <td>Nucleic acids research</td>\n",
       "      <td>0.043272</td>\n",
       "    </tr>\n",
       "    <tr>\n",
       "      <th>12</th>\n",
       "      <td>93</td>\n",
       "      <td>Sensors (Basel, Switzerland)</td>\n",
       "      <td>0.727557</td>\n",
       "      <td>50</td>\n",
       "      <td>International journal of environmental research and public health</td>\n",
       "      <td>0.026872</td>\n",
       "      <td>73</td>\n",
       "      <td>Molecules (Basel, Switzerland)</td>\n",
       "      <td>0.020325</td>\n",
       "    </tr>\n",
       "    <tr>\n",
       "      <th>13</th>\n",
       "      <td>17</td>\n",
       "      <td>BMJ open</td>\n",
       "      <td>0.316786</td>\n",
       "      <td>14</td>\n",
       "      <td>BMC psychiatry</td>\n",
       "      <td>0.144937</td>\n",
       "      <td>60</td>\n",
       "      <td>Journal of medical Internet research</td>\n",
       "      <td>0.123198</td>\n",
       "    </tr>\n",
       "    <tr>\n",
       "      <th>14</th>\n",
       "      <td>75</td>\n",
       "      <td>Nucleic acids research</td>\n",
       "      <td>0.145924</td>\n",
       "      <td>81</td>\n",
       "      <td>PLoS computational biology</td>\n",
       "      <td>0.114294</td>\n",
       "      <td>18</td>\n",
       "      <td>BioMed research international</td>\n",
       "      <td>0.113897</td>\n",
       "    </tr>\n",
       "    <tr>\n",
       "      <th>15</th>\n",
       "      <td>68</td>\n",
       "      <td>Medical science monitor : international medical journal of experimental and clinical research</td>\n",
       "      <td>0.591174</td>\n",
       "      <td>69</td>\n",
       "      <td>Medicine</td>\n",
       "      <td>0.100832</td>\n",
       "      <td>52</td>\n",
       "      <td>International journal of molecular sciences</td>\n",
       "      <td>0.056383</td>\n",
       "    </tr>\n",
       "    <tr>\n",
       "      <th>16</th>\n",
       "      <td>85</td>\n",
       "      <td>Parasites &amp; vectors</td>\n",
       "      <td>0.162180</td>\n",
       "      <td>56</td>\n",
       "      <td>JPMA. The Journal of the Pakistan Medical Association</td>\n",
       "      <td>0.149100</td>\n",
       "      <td>83</td>\n",
       "      <td>PLoS neglected tropical diseases</td>\n",
       "      <td>0.117676</td>\n",
       "    </tr>\n",
       "    <tr>\n",
       "      <th>17</th>\n",
       "      <td>7</td>\n",
       "      <td>BMC cancer</td>\n",
       "      <td>0.244873</td>\n",
       "      <td>31</td>\n",
       "      <td>European review for medical and pharmacological sciences</td>\n",
       "      <td>0.176156</td>\n",
       "      <td>77</td>\n",
       "      <td>OncoTargets and therapy</td>\n",
       "      <td>0.095127</td>\n",
       "    </tr>\n",
       "    <tr>\n",
       "      <th>18</th>\n",
       "      <td>10</td>\n",
       "      <td>BMC health services research</td>\n",
       "      <td>0.752411</td>\n",
       "      <td>27</td>\n",
       "      <td>Cureus</td>\n",
       "      <td>0.020098</td>\n",
       "      <td>14</td>\n",
       "      <td>BMC psychiatry</td>\n",
       "      <td>0.019362</td>\n",
       "    </tr>\n",
       "    <tr>\n",
       "      <th>19</th>\n",
       "      <td>75</td>\n",
       "      <td>Nucleic acids research</td>\n",
       "      <td>0.416650</td>\n",
       "      <td>40</td>\n",
       "      <td>Frontiers in microbiology</td>\n",
       "      <td>0.203877</td>\n",
       "      <td>103</td>\n",
       "      <td>eLife</td>\n",
       "      <td>0.042459</td>\n",
       "    </tr>\n",
       "  </tbody>\n",
       "</table>\n",
       "</div>"
      ],
      "text/plain": [
       "    n1  \\\n",
       "0   93   \n",
       "1   52   \n",
       "2   93   \n",
       "3   24   \n",
       "4   61   \n",
       "5   93   \n",
       "6   89   \n",
       "7   82   \n",
       "8   50   \n",
       "9   86   \n",
       "10  12   \n",
       "11   5   \n",
       "12  93   \n",
       "13  17   \n",
       "14  75   \n",
       "15  68   \n",
       "16  85   \n",
       "17   7   \n",
       "18  10   \n",
       "19  75   \n",
       "\n",
       "                                                                                             n1_n  \\\n",
       "0                                                                    Sensors (Basel, Switzerland)   \n",
       "1                                                     International journal of molecular sciences   \n",
       "2                                                                    Sensors (Basel, Switzerland)   \n",
       "3                                                                                Chemical science   \n",
       "4                                                             Journal of physical therapy science   \n",
       "5                                                                    Sensors (Basel, Switzerland)   \n",
       "6                 Proceedings of the National Academy of Sciences of the United States of America   \n",
       "7                                                                                   PLoS genetics   \n",
       "8                               International journal of environmental research and public health   \n",
       "9                                                                                           PeerJ   \n",
       "10                                                                  BMC musculoskeletal disorders   \n",
       "11                                                  Asian-Australasian journal of animal sciences   \n",
       "12                                                                   Sensors (Basel, Switzerland)   \n",
       "13                                                                                       BMJ open   \n",
       "14                                                                         Nucleic acids research   \n",
       "15  Medical science monitor : international medical journal of experimental and clinical research   \n",
       "16                                                                            Parasites & vectors   \n",
       "17                                                                                     BMC cancer   \n",
       "18                                                                   BMC health services research   \n",
       "19                                                                         Nucleic acids research   \n",
       "\n",
       "          p1  n2  \\\n",
       "0   0.764539  40   \n",
       "1   0.218573  78   \n",
       "2   0.776981  18   \n",
       "3   0.357263  73   \n",
       "4   0.764837  69   \n",
       "5   0.811183  27   \n",
       "6   0.444906  45   \n",
       "7   0.408431  78   \n",
       "8   0.677547  89   \n",
       "9   0.252492  91   \n",
       "10  0.231081  17   \n",
       "11  0.444746  18   \n",
       "12  0.727557  50   \n",
       "13  0.316786  14   \n",
       "14  0.145924  81   \n",
       "15  0.591174  69   \n",
       "16  0.162180  56   \n",
       "17  0.244873  31   \n",
       "18  0.752411  27   \n",
       "19  0.416650  40   \n",
       "\n",
       "                                                                               n2_n  \\\n",
       "0                                                         Frontiers in microbiology   \n",
       "1                                                                          Oncogene   \n",
       "2                                                     BioMed research international   \n",
       "3                                                    Molecules (Basel, Switzerland)   \n",
       "4                                                                          Medicine   \n",
       "5                                                                            Cureus   \n",
       "6                                                           Frontiers in physiology   \n",
       "7                                                                          Oncogene   \n",
       "8   Proceedings of the National Academy of Sciences of the United States of America   \n",
       "9                                                        Royal Society open science   \n",
       "10                                                                         BMJ open   \n",
       "11                                                    BioMed research international   \n",
       "12                International journal of environmental research and public health   \n",
       "13                                                                   BMC psychiatry   \n",
       "14                                                       PLoS computational biology   \n",
       "15                                                                         Medicine   \n",
       "16                            JPMA. The Journal of the Pakistan Medical Association   \n",
       "17                         European review for medical and pharmacological sciences   \n",
       "18                                                                           Cureus   \n",
       "19                                                        Frontiers in microbiology   \n",
       "\n",
       "          p2   n3  \\\n",
       "0   0.045965    6   \n",
       "1   0.173305   58   \n",
       "2   0.019079   66   \n",
       "3   0.189108   52   \n",
       "4   0.054244   18   \n",
       "5   0.018530   28   \n",
       "6   0.129706   22   \n",
       "7   0.073535   22   \n",
       "8   0.058298   93   \n",
       "9   0.173445   89   \n",
       "10  0.115043   18   \n",
       "11  0.050921   75   \n",
       "12  0.026872   73   \n",
       "13  0.144937   60   \n",
       "14  0.114294   18   \n",
       "15  0.100832   52   \n",
       "16  0.149100   83   \n",
       "17  0.176156   77   \n",
       "18  0.020098   14   \n",
       "19  0.203877  103   \n",
       "\n",
       "                                                                               n3_n  \\\n",
       "0                                                                BMC bioinformatics   \n",
       "1                                        Journal of cellular and molecular medicine   \n",
       "2                                                    Materials (Basel, Switzerland)   \n",
       "3                                       International journal of molecular sciences   \n",
       "4                                                     BioMed research international   \n",
       "5                                                                     Data in brief   \n",
       "6                                                                      Cell reports   \n",
       "7                                                                      Cell reports   \n",
       "8                                                      Sensors (Basel, Switzerland)   \n",
       "9   Proceedings of the National Academy of Sciences of the United States of America   \n",
       "10                                                    BioMed research international   \n",
       "11                                                           Nucleic acids research   \n",
       "12                                                   Molecules (Basel, Switzerland)   \n",
       "13                                             Journal of medical Internet research   \n",
       "14                                                    BioMed research international   \n",
       "15                                      International journal of molecular sciences   \n",
       "16                                                 PLoS neglected tropical diseases   \n",
       "17                                                          OncoTargets and therapy   \n",
       "18                                                                   BMC psychiatry   \n",
       "19                                                                            eLife   \n",
       "\n",
       "          p3  \n",
       "0   0.017823  \n",
       "1   0.167615  \n",
       "2   0.012132  \n",
       "3   0.170636  \n",
       "4   0.028336  \n",
       "5   0.014059  \n",
       "6   0.061258  \n",
       "7   0.057310  \n",
       "8   0.035449  \n",
       "9   0.101868  \n",
       "10  0.082037  \n",
       "11  0.043272  \n",
       "12  0.020325  \n",
       "13  0.123198  \n",
       "14  0.113897  \n",
       "15  0.056383  \n",
       "16  0.117676  \n",
       "17  0.095127  \n",
       "18  0.019362  \n",
       "19  0.042459  "
      ]
     },
     "execution_count": 135,
     "metadata": {},
     "output_type": "execute_result"
    }
   ],
   "source": [
    "df_max.head(20)"
   ]
  },
  {
   "cell_type": "code",
   "execution_count": 136,
   "metadata": {},
   "outputs": [
    {
     "data": {
      "text/plain": [
       "0.76683472615512116"
      ]
     },
     "execution_count": 136,
     "metadata": {},
     "output_type": "execute_result"
    }
   ],
   "source": [
    "# ((y_test==df_max.n1)|(y_test==df_max.n2)).mean()\n",
    "((y_test==df_max.n1)|(y_test==df_max.n2)|(y_test==df_max.n3)).mean()"
   ]
  },
  {
   "cell_type": "markdown",
   "metadata": {},
   "source": [
    "1. Some papers clearly fit one journal (high *p*).\n",
    "2. As expected, some papers are good fits for >1 journals, i.e. similar *p* for >1 journals. \n",
    "\n",
    "The model has the right journal in the **top 3** of 105 journals **~77%** of the time for the test data!"
   ]
  }
 ],
 "metadata": {
  "kernelspec": {
   "display_name": "Python [conda root]",
   "language": "python",
   "name": "conda-root-py"
  },
  "language_info": {
   "codemirror_mode": {
    "name": "ipython",
    "version": 3
   },
   "file_extension": ".py",
   "mimetype": "text/x-python",
   "name": "python",
   "nbconvert_exporter": "python",
   "pygments_lexer": "ipython3",
   "version": "3.6.1"
  }
 },
 "nbformat": 4,
 "nbformat_minor": 2
}
