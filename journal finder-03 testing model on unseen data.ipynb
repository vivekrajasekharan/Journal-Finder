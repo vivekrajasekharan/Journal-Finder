{
 "cells": [
  {
   "cell_type": "code",
   "execution_count": null,
   "metadata": {
    "collapsed": true
   },
   "outputs": [],
   "source": [
    "from IPython.core.interactiveshell import InteractiveShell\n",
    "InteractiveShell.ast_node_interactivity = \"all\"\n",
    "\n",
    "#Importing necessary packages\n",
    "import pandas as pd\n",
    "import numpy as np\n",
    "import seaborn as sns\n",
    "import matplotlib.pyplot as plt\n",
    "%matplotlib inline\n",
    "import datetime\n",
    "pd.options.display.max_colwidth = 100\n",
    "\n"
   ]
  },
  {
   "cell_type": "code",
   "execution_count": 2,
   "metadata": {
    "collapsed": true,
    "scrolled": true
   },
   "outputs": [],
   "source": [
    "import pickle\n",
    "filename = 'model_300to2500.sav'\n",
    "filename_tfv = 'tfv_300to2500.sav'\n",
    "filename_le = 'le_300to2500.sav'\n",
    "\n",
    "# load models from disk\n",
    "loaded_model = pickle.load(open(filename, 'rb'))\n",
    "loaded_tfv = pickle.load(open(filename_tfv, 'rb'))\n",
    "loaded_le = pickle.load(open(filename_le, 'rb'))"
   ]
  },
  {
   "cell_type": "markdown",
   "metadata": {},
   "source": [
    "## Testing the model on unseen data!\n",
    "\n",
    "### I copy some titles and abstracts from NCBI PubMed and determine what my model recommends for these papers"
   ]
  },
  {
   "cell_type": "markdown",
   "metadata": {},
   "source": [
    "## Test 1:"
   ]
  },
  {
   "cell_type": "code",
   "execution_count": 3,
   "metadata": {},
   "outputs": [
    {
     "data": {
      "text/plain": [
       "'Adopting Basic Principles of the United Nations Academic Impact Initiative (UNAI): Can Cultural Differences Be Predicted from Value Orientations and Globalization?'"
      ]
     },
     "execution_count": 3,
     "metadata": {},
     "output_type": "execute_result"
    },
    {
     "data": {
      "text/plain": [
       "\"The United Nations Academic Impact (UNAI) Initiative has set forth 10 Basic Principles for higher education. In the present study, a 10 item self-report questionnaire measuring personal endorsement of these principles has been tested by self-report questionnaires with university and post-graduate students from Austria, China, Cyprus, India, Nigeria, and Slovakia (total N = 976, N = 627 female, mean age 24.7 years, s = 5.7). Starting from the assumptions of Moral Foundations Theory (MFT), we expected that personal attitudes toward the UNAI Basic Principles would be predicted by endorsement of various moral foundations as suggested by MFT and by the individual's degree of globalization. Whereas for the Austrian, Cypriot, and Nigerian sub- samples this assumption was largely confirmed, for the Chinese, Indian, and Slovak sub- samples only small amounts of the variance could be explained by regression models. All six sub-samples differed substantially with regard to their overall questionnaire responses: by five discriminant functions 83.6% of participants were classified correctly. We conclude that implementation of UNAI principles should adhere closely to the cultural requirements of the respective society and, where necessary should be accompanied by thorough informational campaigns about UN educational goals.\""
      ]
     },
     "execution_count": 3,
     "metadata": {},
     "output_type": "execute_result"
    }
   ],
   "source": [
    "input_title=\"Adopting Basic Principles of the United Nations Academic Impact Initiative (UNAI): Can Cultural Differences Be Predicted from Value Orientations and Globalization?\"\n",
    "input_abstract=\"The United Nations Academic Impact (UNAI) Initiative has set forth 10 Basic Principles for higher education. In the present study, a 10 item self-report questionnaire measuring personal endorsement of these principles has been tested by self-report questionnaires with university and post-graduate students from Austria, China, Cyprus, India, Nigeria, and Slovakia (total N = 976, N = 627 female, mean age 24.7 years, s = 5.7). Starting from the assumptions of Moral Foundations Theory (MFT), we expected that personal attitudes toward the UNAI Basic Principles would be predicted by endorsement of various moral foundations as suggested by MFT and by the individual's degree of globalization. Whereas for the Austrian, Cypriot, and Nigerian sub- samples this assumption was largely confirmed, for the Chinese, Indian, and Slovak sub- samples only small amounts of the variance could be explained by regression models. All six sub-samples differed substantially with regard to their overall questionnaire responses: by five discriminant functions 83.6% of participants were classified correctly. We conclude that implementation of UNAI principles should adhere closely to the cultural requirements of the respective society and, where necessary should be accompanied by thorough informational campaigns about UN educational goals.\"\n",
    "input_title\n",
    "input_abstract"
   ]
  },
  {
   "cell_type": "markdown",
   "metadata": {},
   "source": [
    "(Model output, *generated by the code below*) The journals you should consider are: \n",
    "\n",
    " 1.  Frontiers in psychology ( 0.693253205182 ) \n",
    " 2.  International journal of environmental research and public health ( 0.0978024608588 ) \n",
    " 3.  Proceedings of the National Academy of Sciences of the United States of America ( 0.0152378214345 ) \n",
    " \n",
    " **This paper was published in *Frontiers in psychology*. **"
   ]
  },
  {
   "cell_type": "markdown",
   "metadata": {},
   "source": [
    "## Test 2:"
   ]
  },
  {
   "cell_type": "code",
   "execution_count": 59,
   "metadata": {},
   "outputs": [
    {
     "data": {
      "text/plain": [
       "'Novel Semi-Parametric Algorithm for Interference-Immune Tunable Absorption Spectroscopy Gas Sensing.'"
      ]
     },
     "execution_count": 59,
     "metadata": {},
     "output_type": "execute_result"
    },
    {
     "data": {
      "text/plain": [
       "\"One of the most common limits to gas sensor performance is the presence of unwanted interference fringes arising, for example, from multiple reflections between surfaces in the optical path. Additionally, since the amplitude and the frequency of these interferences depend on the distance and alignment of the optical elements, they are affected by temperature changes and mechanical disturbances, giving rise to a drift of the signal. In this work, we present a novel semi-parametric algorithm that allows the extraction of a signal, like the spectroscopic absorption line of a gas molecule, from a background containing arbitrary disturbances, without having to make any assumption on the functional form of these disturbances. The algorithm is applied first to simulated data and then to oxygen absorption measurements in the presence of strong fringes.To the best of the authors' knowledge, the algorithm enables an unprecedented accuracy particularly if the fringes have a free spectral range and amplitude comparable to those of the signal to be detected. The described method presents the advantage of being based purely on post processing, and to be of extremely straightforward implementation if the functional form of the Fourier transform of the signal is known. Therefore, it has the potential to enable interference-immune absorption spectroscopy. Finally, its relevance goes beyond absorption spectroscopy for gas sensing, since it can be applied to any kind of spectroscopic data.\""
      ]
     },
     "execution_count": 59,
     "metadata": {},
     "output_type": "execute_result"
    }
   ],
   "source": [
    "input_title=\"Novel Semi-Parametric Algorithm for Interference-Immune Tunable Absorption Spectroscopy Gas Sensing.\"\n",
    "input_abstract=\"\"\"One of the most common limits to gas sensor performance is the presence of unwanted interference fringes arising, for example, from multiple reflections between surfaces in the optical path. Additionally, since the amplitude and the frequency of these interferences depend on the distance and alignment of the optical elements, they are affected by temperature changes and mechanical disturbances, giving rise to a drift of the signal. In this work, we present a novel semi-parametric algorithm that allows the extraction of a signal, like the spectroscopic absorption line of a gas molecule, from a background containing arbitrary disturbances, without having to make any assumption on the functional form of these disturbances. The algorithm is applied first to simulated data and then to oxygen absorption measurements in the presence of strong fringes.To the best of the authors' knowledge, the algorithm enables an unprecedented accuracy particularly if the fringes have a free spectral range and amplitude comparable to those of the signal to be detected. The described method presents the advantage of being based purely on post processing, and to be of extremely straightforward implementation if the functional form of the Fourier transform of the signal is known. Therefore, it has the potential to enable interference-immune absorption spectroscopy. Finally, its relevance goes beyond absorption spectroscopy for gas sensing, since it can be applied to any kind of spectroscopic data.\"\"\"\n",
    "input_title\n",
    "input_abstract\n"
   ]
  },
  {
   "cell_type": "markdown",
   "metadata": {},
   "source": [
    "(Model output) The journals you should consider are: \n",
    "\n",
    " 1.  Sensors (Basel, Switzerland) ( 0.761723114549 ) \n",
    " 2.  Biomedical optics express ( 0.0312991246921 ) \n",
    " 3.  Molecules (Basel, Switzerland) ( 0.0197140534478 )\n",
    " \n",
    " **This paper was published in *Sensors*. **\n"
   ]
  },
  {
   "cell_type": "markdown",
   "metadata": {},
   "source": [
    "## Test 3:"
   ]
  },
  {
   "cell_type": "code",
   "execution_count": 40,
   "metadata": {},
   "outputs": [
    {
     "data": {
      "text/plain": [
       "'IAP antagonists enhance cytokine production from mouse and human iNKT cells.'"
      ]
     },
     "execution_count": 40,
     "metadata": {},
     "output_type": "execute_result"
    },
    {
     "data": {
      "text/plain": [
       "'Inhibitor of apoptosis protein (IAP) antagonists are in clinical trials for a variety of cancers, and mouse models show synergism between IAP antagonists and anti-PD-1 immunotherapy. Although IAP antagonists affect the intrinsic signaling of tumor cells, their most pronounced effects are on immune cells and the generation of antitumor immunity. Here we examined the effects of IAP antagonism on T-cell development using mouse fetal thymic organ culture and observed a selective loss of iNKT cells, an effector cell type of potential importance for cancer immunotherapy. Thymic iNKT-cell development probably failed due to increased strength of TCR signal leading to negative selection, given that mature iNKT cells treated with IAP antagonists were not depleted, but had enhanced cytokine production in both mouse and human ex vivo cultures. Consistent with this, mature mouse primary iNKT cells and iNKT hybridomas increased production of effector cytokines in the presence of IAP antagonists. In vivo administration of IAP antagonists and a-GalCer resulted in increased IFNg and IL2 production from iNKT cells and decreased tumor burden in a mouse model of melanoma lung metastasis. Human iNKT cells also proliferated and increased IFNg production dramatically in the presence of IAP antagonists, demonstrating the utility of these compounds in adoptive therapy of iNKT cells.'"
      ]
     },
     "execution_count": 40,
     "metadata": {},
     "output_type": "execute_result"
    }
   ],
   "source": [
    "input_title=\"IAP antagonists enhance cytokine production from mouse and human iNKT cells.\"\n",
    "input_abstract=\"\"\"Inhibitor of apoptosis protein (IAP) antagonists are in clinical trials for a variety of cancers, and mouse models show synergism between IAP antagonists and anti-PD-1 immunotherapy. Although IAP antagonists affect the intrinsic signaling of tumor cells, their most pronounced effects are on immune cells and the generation of antitumor immunity. Here we examined the effects of IAP antagonism on T-cell development using mouse fetal thymic organ culture and observed a selective loss of iNKT cells, an effector cell type of potential importance for cancer immunotherapy. Thymic iNKT-cell development probably failed due to increased strength of TCR signal leading to negative selection, given that mature iNKT cells treated with IAP antagonists were not depleted, but had enhanced cytokine production in both mouse and human ex vivo cultures. Consistent with this, mature mouse primary iNKT cells and iNKT hybridomas increased production of effector cytokines in the presence of IAP antagonists. In vivo administration of IAP antagonists and a-GalCer resulted in increased IFNg and IL2 production from iNKT cells and decreased tumor burden in a mouse model of melanoma lung metastasis. Human iNKT cells also proliferated and increased IFNg production dramatically in the presence of IAP antagonists, demonstrating the utility of these compounds in adoptive therapy of iNKT cells.\"\"\"\n",
    "input_title\n",
    "input_abstract\n"
   ]
  },
  {
   "cell_type": "markdown",
   "metadata": {},
   "source": [
    "(Model output) The journals you should consider are: \n",
    "\n",
    " 1.  Frontiers in immunology ( 0.404513015855 ) \n",
    " 2.  Cell reports ( 0.104772138086 ) \n",
    " 3.  Proceedings of the National Academy of Sciences of the United States of America ( 0.0631975399672 )\n",
    " \n",
    " **This paper was published in *Cancer Immunology Research* but  *Frontiers in immunology* is a good alternative! *Cancer Immunology Research* is not among the 105 journals considered. **"
   ]
  },
  {
   "cell_type": "markdown",
   "metadata": {},
   "source": [
    "## Test 4:"
   ]
  },
  {
   "cell_type": "markdown",
   "metadata": {},
   "source": [
    "###  I input the famous 'Hare and the Tortoise' story  to see what my model predicts, and confirm it does not assign bad fits to the largest bin."
   ]
  },
  {
   "cell_type": "code",
   "execution_count": 52,
   "metadata": {},
   "outputs": [
    {
     "data": {
      "text/plain": [
       "\"The Hare and the Tortoise - An Aesop's Fable\""
      ]
     },
     "execution_count": 52,
     "metadata": {},
     "output_type": "execute_result"
    },
    {
     "data": {
      "text/plain": [
       "' The Hare was once boasting of his speed before the other animals. \"I have never yet been beaten,\" said he, \"when I put forth my full speed. I challenge any one here to race with me.\" The Tortoise said quietly, \"I accept your challenge.\" \"That is a good joke,\" said the Hare; \"I could dance round you all the way.\" \"Keep your boasting till you\\'ve beaten,\" answered the Tortoise. \"Shall we race?\" So a course was fixed and a start was made. The Hare darted almost out of sight at once, but soon stopped and, to show his contempt for the Tortoise, lay down to have a nap. The Tortoise plodded on and plodded on, and when the Hare awoke from his nap, he saw the Tortoise just near the winning-post and could not run up in time to save the race.'"
      ]
     },
     "execution_count": 52,
     "metadata": {},
     "output_type": "execute_result"
    }
   ],
   "source": [
    "input_title=\"The Hare and the Tortoise - An Aesop's Fable\"\n",
    "input_abstract=\"\"\" The Hare was once boasting of his speed before the other animals. \"I have never yet been beaten,\" said he, \"when I put forth my full speed. I challenge any one here to race with me.\" The Tortoise said quietly, \"I accept your challenge.\" \"That is a good joke,\" said the Hare; \"I could dance round you all the way.\" \"Keep your boasting till you've beaten,\" answered the Tortoise. \"Shall we race?\" So a course was fixed and a start was made. The Hare darted almost out of sight at once, but soon stopped and, to show his contempt for the Tortoise, lay down to have a nap. The Tortoise plodded on and plodded on, and when the Hare awoke from his nap, he saw the Tortoise just near the winning-post and could not run up in time to save the race.\"\"\"\n",
    "input_title\n",
    "input_abstract\n"
   ]
  },
  {
   "cell_type": "markdown",
   "metadata": {},
   "source": [
    "(Model output) The journals you should consider are: \n",
    " 1.  The Journal of veterinary medical science ( 0.189117331422 ) \n",
    " 2.  Journal of clinical and diagnostic research : JCDR ( 0.116510614253 ) \n",
    " 3.  Royal Society open science ( 0.062769097637 )\n",
    "\n",
    " ** The model recommends *The Journal of veterinary medical science* for the Aesop's fable with a low (.2) probability score. Inverse transform of the vector shows tokens for animal, hare and tortoise play a significant role in this assignment.**"
   ]
  },
  {
   "cell_type": "markdown",
   "metadata": {},
   "source": [
    "## Test 5:"
   ]
  },
  {
   "cell_type": "markdown",
   "metadata": {},
   "source": [
    "###  Finally, I input the title and abstract of my preprint [research paper](https://www.biorxiv.org/content/early/2017/09/04/184069), to find the journal that is the best match"
   ]
  },
  {
   "cell_type": "code",
   "execution_count": 46,
   "metadata": {},
   "outputs": [
    {
     "data": {
      "text/plain": [
       "'Catch-slip behavior observed upon rupturing membrane-cytoskeleton bonds'"
      ]
     },
     "execution_count": 46,
     "metadata": {},
     "output_type": "execute_result"
    },
    {
     "data": {
      "text/plain": [
       "'Cells are capable of cytoskeleton remodeling in response to environmental cues at the plasma membrane.  The propensity to remodel in response to a mechanical stimulus is reflected in part by the lifetime of the membrane-cytoskeleton bonds upon application of a tensile loading rate.  We measure the lifetime and force to rupture membrane-cytoskeleton linkages of a head and neck squamous cell carcinoma (HNSCC) cell line, HN-31 by applying a tensile loading rate (< 60 pN/s) with a handle bound to a cell, while monitoring the displacement of the handle at 2 kHz after averaging.  We observe the lifetime increases with loading rate, r_f to a maximum after which it decreases with further increase in r_f.  This biphasic relationship appears insensitive to drugs that target microtubule assembly, but is no longer detectable, i.e., lifetime is independent of r_f in cells with reduced active Rho-GTPases.  The loading rate-time relationship resembles catch-slip behavior reported upon applying tensile loads to separate protein complexes.  Under small loads the bonds catch to increase lifetimes, under larger loads their lifetime shortens and they dissociate in a slip-like manner.  Our data conforms to a model that considers the membrane-cytoskeleton bonds exhibit a load-dependent conformational change and dissociate via two pathways.  We also find the membrane-cytoskeleton linkages strengthen with stationary compressive load, F_SC (|F_SC| < 40 pN), and conclude this metastatic cell line responds to small mechanical stimuli by promoting cytoskeleton remodeling as evident by observing F-actin within the membrane nanotube (10 µm length) formed after bond rupture.'"
      ]
     },
     "execution_count": 46,
     "metadata": {},
     "output_type": "execute_result"
    }
   ],
   "source": [
    "input_title=\"Catch-slip behavior observed upon rupturing membrane-cytoskeleton bonds\"\n",
    "input_abstract=\"\"\"Cells are capable of cytoskeleton remodeling in response to environmental cues at the plasma membrane.  The propensity to remodel in response to a mechanical stimulus is reflected in part by the lifetime of the membrane-cytoskeleton bonds upon application of a tensile loading rate.  We measure the lifetime and force to rupture membrane-cytoskeleton linkages of a head and neck squamous cell carcinoma (HNSCC) cell line, HN-31 by applying a tensile loading rate (< 60 pN/s) with a handle bound to a cell, while monitoring the displacement of the handle at 2 kHz after averaging.  We observe the lifetime increases with loading rate, r_f to a maximum after which it decreases with further increase in r_f.  This biphasic relationship appears insensitive to drugs that target microtubule assembly, but is no longer detectable, i.e., lifetime is independent of r_f in cells with reduced active Rho-GTPases.  The loading rate-time relationship resembles catch-slip behavior reported upon applying tensile loads to separate protein complexes.  Under small loads the bonds catch to increase lifetimes, under larger loads their lifetime shortens and they dissociate in a slip-like manner.  Our data conforms to a model that considers the membrane-cytoskeleton bonds exhibit a load-dependent conformational change and dissociate via two pathways.  We also find the membrane-cytoskeleton linkages strengthen with stationary compressive load, F_SC (|F_SC| < 40 pN), and conclude this metastatic cell line responds to small mechanical stimuli by promoting cytoskeleton remodeling as evident by observing F-actin within the membrane nanotube (10 µm length) formed after bond rupture.\"\"\"\n",
    "input_title\n",
    "input_abstract\n"
   ]
  },
  {
   "cell_type": "markdown",
   "metadata": {},
   "source": [
    "(Model output) The journals you should consider are: \n",
    "\n",
    " 1.  Proceedings of the National Academy of Sciences of the United States of America ( 0.48414825328 ) \n",
    " 2.  Chemical science ( 0.0450833089798 ) \n",
    " 3.  eLife ( 0.0391315410623 )\n",
    " \n",
    "  ** The model recommends I send my paper to *PNAS*. **\n"
   ]
  },
  {
   "cell_type": "markdown",
   "metadata": {},
   "source": [
    "## Code is here."
   ]
  },
  {
   "cell_type": "code",
   "execution_count": 4,
   "metadata": {},
   "outputs": [
    {
     "data": {
      "text/plain": [
       "[\"adopt bas principl of the unit nat academ impact in ( una ) : can cult diff be predict from valu ory and glob ? the unit nat academ impact ( una ) in has set for 10 bas principl for high educ . in the pres study , a 10 item self-report questionnair meas person endors of thes principl has been test by self-report questionnair with univers and post-graduate stud from austr , chin , cypr , ind , niger , and slovak ( tot n = 976 , n = 627 fem , mean ag 24.7 year , s = 5.7 ) . start from the assum of mor found the ( mft ) , we expect that person attitud toward the una bas principl would be predict by endors of vary mor found as suggest by mft and by the individ 's degr of glob . wherea for the aust , cypriot , and nig sub- sampl thi assum was larg confirm , for the chines , ind , and slovak sub- sampl on smal amount of the vary could be explain by regress model . al six sub-samples diff subst with regard to their overal questionnair respons : by fiv discrimin funct 83.6 % of particip wer class correct . we conclud that impl of una principl should adh clos to the cult requir of the respect socy and , wher necess should be accompany by thorough inform campaign about un educ goal .\"]"
      ]
     },
     "execution_count": 4,
     "metadata": {},
     "output_type": "execute_result"
    }
   ],
   "source": [
    "# import operator\n",
    "from sklearn.svm import LinearSVC\n",
    "from sklearn.model_selection import train_test_split\n",
    "from sklearn.feature_extraction.text import TfidfVectorizer\n",
    "from sklearn.preprocessing import LabelEncoder as LE\n",
    "from sklearn.calibration import CalibratedClassifierCV\n",
    "import random\n",
    "import nltk\n",
    "from nltk.stem.lancaster import LancasterStemmer\n",
    "from nltk.stem.porter import PorterStemmer \n",
    "\n",
    "stemmer = LancasterStemmer()\n",
    "def cleanup(sentence):\n",
    "    word_tok = nltk.word_tokenize(sentence)\n",
    "    stemmed_words = [stemmer.stem(w) for w in word_tok]\n",
    "\n",
    "    return ' '.join(stemmed_words)\n",
    "\n",
    "\n",
    "\n",
    "\n",
    "questions=input_title+\" \"+input_abstract\n",
    "Xi = []\n",
    "\n",
    "Xi.append(cleanup(questions))\n",
    "\n",
    "\n",
    "\n",
    "\n",
    "Xi"
   ]
  },
  {
   "cell_type": "code",
   "execution_count": 5,
   "metadata": {},
   "outputs": [
    {
     "name": "stdout",
     "output_type": "stream",
     "text": [
      "The journals you should consider are: \n",
      " 1.  Frontiers in psychology ( 0.693253205182 ) \n",
      " 2.  International journal of environmental research and public health ( 0.0978024608588 ) \n",
      " 3.  Proceedings of the National Academy of Sciences of the United States of America ( 0.0152378214345 )\n"
     ]
    }
   ],
   "source": [
    "import heapq\n",
    "Xi = loaded_tfv.transform(Xi)\n",
    "proba=loaded_model.predict_proba(Xi)\n",
    "\n",
    "nvals=(heapq.nlargest(3, enumerate(proba[0]), key=lambda x: x[1]))\n",
    "\n",
    "\n",
    "i3=(nvals[2])\n",
    "i2=(nvals[1])\n",
    "i1=(nvals[0])\n",
    "n1, p1 = i1\n",
    "n2, p2 = i2\n",
    "n3, p3 = i3\n",
    "\n",
    "labels=list(loaded_le.classes_)\n",
    "\n",
    "num=list(range(0,len(labels)))\n",
    "\n",
    "dict_l=dict(zip(num,labels))\n",
    "\n",
    "dfcols = ['n1', 'p1', 'n2', 'p2', 'n3', 'p3']\n",
    "df_max = pd.DataFrame(columns=dfcols)\n",
    "\n",
    "print (\"The journals you should consider are: \\n\", \"1. \", dict_l[n1], \"(\", p1,\")\", '\\n',\"2. \", dict_l[n2], \"(\", p2,\")\", '\\n',\"3. \", dict_l[n3], \"(\", p3,\")\" )"
   ]
  }
 ],
 "metadata": {
  "kernelspec": {
   "display_name": "Python [conda root]",
   "language": "python",
   "name": "conda-root-py"
  },
  "language_info": {
   "codemirror_mode": {
    "name": "ipython",
    "version": 3
   },
   "file_extension": ".py",
   "mimetype": "text/x-python",
   "name": "python",
   "nbconvert_exporter": "python",
   "pygments_lexer": "ipython3",
   "version": "3.6.1"
  }
 },
 "nbformat": 4,
 "nbformat_minor": 2
}
